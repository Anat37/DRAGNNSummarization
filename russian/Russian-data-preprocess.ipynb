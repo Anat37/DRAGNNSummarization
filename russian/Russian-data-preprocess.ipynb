{
 "cells": [
  {
   "cell_type": "code",
   "execution_count": 18,
   "metadata": {},
   "outputs": [],
   "source": [
    "import json\n",
    "from bs4 import BeautifulSoup\n",
    "from collections import Counter\n",
    "import pymorphy2\n",
    "import codecs\n",
    "\n",
    "morph = pymorphy2.MorphAnalyzer()\n",
    "\n",
    "cnt = Counter()\n",
    "\n",
    "def clean_word(word):\n",
    "    word = word.replace('\"', '')\n",
    "    word = word.replace('(', '')\n",
    "    word = word.replace(')', '')\n",
    "    return word\n",
    "\n",
    "with codecs.open(\"ria_1k.json\", \"r\", \"utf8\") as input_file:\n",
    "    for line in input_file:\n",
    "        obj = json.loads(line)\n",
    "        txt = obj['text']\n",
    "        cleantext = BeautifulSoup(txt, \"lxml\").text\n",
    "        words = cleantext.split()\n",
    "        for word in words:\n",
    "            word = clean_word(word)\n",
    "            p = morph.parse(word)[0]\n",
    "            lex = p.normal_form\n",
    "            cnt[lex] += 1"
   ]
  },
  {
   "cell_type": "code",
   "execution_count": null,
   "metadata": {},
   "outputs": [],
   "source": []
  },
  {
   "cell_type": "code",
   "execution_count": null,
   "metadata": {},
   "outputs": [],
   "source": [
    "\n",
    "with open(\"vocab.txt\", \"w\") as vf:\n",
    "    for i, word in enumerate(cnt.most_common()[:50000]):\n",
    "        vf.write('%d %s\\n' % (i, word[0]))"
   ]
  },
  {
   "cell_type": "code",
   "execution_count": null,
   "metadata": {},
   "outputs": [],
   "source": [
    "'\"', '('"
   ]
  },
  {
   "cell_type": "code",
   "execution_count": null,
   "metadata": {},
   "outputs": [],
   "source": [
    "grammems = ['POST', 'NOUN', 'ADJF','ADJS','COMP','VERB','INFN','PRTF','PRTS','GRND','NUMR','ADVB','NPRO','PRED', 'PREP', 'CONJ', 'PRCL', 'INTJ' \n",
    "           'ANim', 'anim', 'inan', \n",
    "           'GNdr', 'masc', 'femn', 'neut', 'ms-f',\n",
    "            'NMbr', 'sing', 'plur',\n",
    "            'Sgtm', 'Pltm', 'Fixd',\n",
    "            'CAse', 'nomn', 'gent', 'datv', 'accs', 'ablt', 'loct', 'voct', 'gen1', 'gen2', 'acc2', 'loc1', 'loc2',\n",
    "           'perf', 'impf',\n",
    "            'tran','intr',\n",
    "            'Impe', 'Impx', 'Mult', 'Refl',\n",
    "            '1per', '2per', '3per',\n",
    "            'pres', 'past', 'futr',\n",
    "            'indc', 'impr',\n",
    "            'incl', 'excl',\n",
    "            'actv', 'pssv']"
   ]
  }
 ],
 "metadata": {
  "kernelspec": {
   "display_name": "Python 3",
   "language": "python",
   "name": "python3"
  },
  "language_info": {
   "codemirror_mode": {
    "name": "ipython",
    "version": 3
   },
   "file_extension": ".py",
   "mimetype": "text/x-python",
   "name": "python",
   "nbconvert_exporter": "python",
   "pygments_lexer": "ipython3",
   "version": "3.6.5"
  }
 },
 "nbformat": 4,
 "nbformat_minor": 2
}
