{
 "cells": [
  {
   "cell_type": "code",
   "execution_count": 1,
   "metadata": {},
   "outputs": [],
   "source": [
    "import numpy as np\n",
    "\n",
    "import torch\n",
    "import torch.nn as nn\n",
    "import torch.nn.functional as F\n",
    "import torch.optim as optim\n",
    "\n",
    "from torch.cuda import FloatTensor, LongTensor\n",
    "\n",
    "np.random.seed(42)"
   ]
  },
  {
   "cell_type": "code",
   "execution_count": 2,
   "metadata": {},
   "outputs": [
    {
     "name": "stderr",
     "output_type": "stream",
     "text": [
      "c:\\python36\\lib\\site-packages\\h5py\\__init__.py:36: FutureWarning: Conversion of the second argument of issubdtype from `float` to `np.floating` is deprecated. In future, it will be treated as `np.float64 == np.dtype(float).type`.\n",
      "  from ._conv import register_converters as _register_converters\n"
     ]
    }
   ],
   "source": [
    "from utils import *\n",
    "from model2 import build_decoder_model\n",
    "\n",
    "%load_ext autoreload\n",
    "%autoreload 2"
   ]
  },
  {
   "cell_type": "code",
   "execution_count": 3,
   "metadata": {},
   "outputs": [
    {
     "name": "stdout",
     "output_type": "stream",
     "text": [
      "Warning: incorrectly formatted line in vocabulary file: 0800В 555В 111 356\n",
      "\n",
      "\n",
      "Warning: incorrectly formatted line in vocabulary file: 1800В 333В 000 139\n",
      "\n",
      "\n",
      "Warning: incorrectly formatted line in vocabulary file: 2В 1/2 124\n",
      "\n",
      "\n",
      "Warning: incorrectly formatted line in vocabulary file: 3В 1/2 86\n",
      "\n",
      "\n",
      "max_size of vocab was specified as 50000; we now have 50000 words. Stopping reading.\n",
      "Finished constructing vocabulary of 50000 total words. Last word added: perisic\n"
     ]
    }
   ],
   "source": [
    "vocab = Vocab(\"finished_files/vocab\", VOCAB_SIZE)"
   ]
  },
  {
   "cell_type": "code",
   "execution_count": 4,
   "metadata": {},
   "outputs": [
    {
     "data": {
      "text/plain": [
       "135609856"
      ]
     },
     "execution_count": 4,
     "metadata": {},
     "output_type": "execute_result"
    }
   ],
   "source": [
    "model = build_decoder_model()\n",
    "torch.cuda.memory_allocated()"
   ]
  },
  {
   "cell_type": "markdown",
   "metadata": {},
   "source": [
    "train_data=Batcher(vocab, \"finished_files/chunked/train_000.bin\", 8, 1000, 50)"
   ]
  },
  {
   "cell_type": "markdown",
   "metadata": {},
   "source": [
    "gen_and_print_summary(train_data, model, 10)"
   ]
  },
  {
   "cell_type": "code",
   "execution_count": 5,
   "metadata": {},
   "outputs": [],
   "source": [
    "criterion = nn.CrossEntropyLoss(ignore_index = vocab.word2id(PAD_TOKEN)).cuda()\n",
    "optimizer = optim.Adagrad(model.parameters(), lr=0.15, initial_accumulator_value=0.1)"
   ]
  },
  {
   "cell_type": "code",
   "execution_count": null,
   "metadata": {},
   "outputs": [],
   "source": []
  },
  {
   "cell_type": "code",
   "execution_count": 6,
   "metadata": {},
   "outputs": [],
   "source": [
    "model.load_model(\"no_emb\")"
   ]
  },
  {
   "cell_type": "code",
   "execution_count": 7,
   "metadata": {},
   "outputs": [],
   "source": [
    "#all_data = Batcher(vocab, \"finished_files/train.bin\",32, 200, 50)"
   ]
  },
  {
   "cell_type": "code",
   "execution_count": 8,
   "metadata": {},
   "outputs": [],
   "source": [
    "#dta = Batcher(vocab, \"finished_files/chunked/train_001.bin\",32, 200, 100)"
   ]
  },
  {
   "cell_type": "code",
   "execution_count": null,
   "metadata": {},
   "outputs": [
    {
     "name": "stdout",
     "output_type": "stream",
     "text": [
      "4488\n",
      "377\n",
      "16\n",
      "59\n"
     ]
    },
    {
     "name": "stderr",
     "output_type": "stream",
     "text": [
      "c:\\python36\\lib\\site-packages\\nltk\\translate\\bleu_score.py:503: UserWarning: \n",
      "The hypothesis contains 0 counts of 2-gram overlaps.\n",
      "Therefore the BLEU score evaluates to 0, independently of\n",
      "how many N-gram overlaps of lower order it contains.\n",
      "Consider using lower n-gram order or use SmoothingFunction()\n",
      "  warnings.warn(_msg)\n",
      "c:\\python36\\lib\\site-packages\\nltk\\translate\\bleu_score.py:503: UserWarning: \n",
      "The hypothesis contains 0 counts of 3-gram overlaps.\n",
      "Therefore the BLEU score evaluates to 0, independently of\n",
      "how many N-gram overlaps of lower order it contains.\n",
      "Consider using lower n-gram order or use SmoothingFunction()\n",
      "  warnings.warn(_msg)\n",
      "c:\\python36\\lib\\site-packages\\nltk\\translate\\bleu_score.py:503: UserWarning: \n",
      "The hypothesis contains 0 counts of 4-gram overlaps.\n",
      "Therefore the BLEU score evaluates to 0, independently of\n",
      "how many N-gram overlaps of lower order it contains.\n",
      "Consider using lower n-gram order or use SmoothingFunction()\n",
      "  warnings.warn(_msg)\n"
     ]
    },
    {
     "name": "stdout",
     "output_type": "stream",
     "text": [
      "Epoch 1 / 5, Epoch Time = 677.44s: Train Loss = 209935.1591: Cov_Loss = 0.0000, BLEU = 0.1000, ROUGE = 0.1000, Val Loss = 689.4222\n",
      "Epoch 2 / 5, Epoch Time = 677.64s: Train Loss = 204875.5963: Cov_Loss = 0.0000, BLEU = 0.1193, ROUGE = 0.1193, Val Loss = 686.9081\n",
      "Epoch 3 / 5, Epoch Time = 678.35s: Train Loss = 202010.7217: Cov_Loss = 0.0000, BLEU = 0.1216, ROUGE = 0.1216, Val Loss = 686.0948\n",
      "Epoch 4 / 5, Epoch Time = 678.51s: Train Loss = 199097.6298: Cov_Loss = 0.0000, BLEU = 0.1237, ROUGE = 0.1237, Val Loss = 682.6161\n",
      "Epoch 5 / 5, Epoch Time = 678.83s: Train Loss = 196555.7923: Cov_Loss = 0.0000, BLEU = 0.1254, ROUGE = 0.1254, Val Loss = 685.3647\n",
      "\n",
      "4488\n",
      "377\n",
      "16\n",
      "99\n",
      "Epoch 1 / 5, Epoch Time = 1169.22s: Train Loss = 451783.1106: Cov_Loss = 0.0000, BLEU = 0.0866, ROUGE = 0.0866, Val Loss = 1600.9406\n",
      "Epoch 2 / 5, Epoch Time = 1169.24s: Train Loss = 447024.3111: Cov_Loss = 0.0000, BLEU = 0.0898, ROUGE = 0.0897, Val Loss = 1603.2000\n",
      "Epoch 3 / 5, Epoch Time = 1169.16s: Train Loss = 443864.0878: Cov_Loss = 0.0000, BLEU = 0.0883, ROUGE = 0.0883, Val Loss = 1597.7599\n",
      "Epoch 4 / 5, Epoch Time = 1169.61s: Train Loss = 440968.4652: Cov_Loss = 0.0000, BLEU = 0.0936, ROUGE = 0.0936, Val Loss = 1605.7234\n",
      "Epoch 5 / 5, Epoch Time = 1169.43s: Train Loss = 438263.6933: Cov_Loss = 0.0000, BLEU = 0.0901, ROUGE = 0.0901, Val Loss = 1609.3397\n",
      "\n",
      "8976\n",
      "377\n",
      "32\n",
      "99\n",
      "[7601]: Loss = 246.4883, Cov_Loss = 0.0000, BLEU = 0.0769, ROUGE = 0.0826"
     ]
    }
   ],
   "source": [
    "fit(model, criterion, optimizer, epochs_count=5, batch_size=32, train_data=Batcher(vocab, \"finished_files/train.bin\",64, 100, 10),\n",
    "    val_data=Batcher(vocab, \"finished_files/chunked/test_001.bin\",64, 100, 10), val_batch_size=32, cov_loss=False)\n",
    "model.save_model(\"no_emb4\")\n",
    "fit(model, criterion, optimizer, epochs_count=5, batch_size=32, train_data=Batcher(vocab, \"finished_files/train.bin\",64, 100, 20),\n",
    "    val_data=Batcher(vocab, \"finished_files/chunked/val_001.bin\",64, 100, 20), val_batch_size=32, cov_loss=False)\n",
    "model.save_model(\"no_emb4\")\n",
    "fit(model, criterion, optimizer, epochs_count=5, batch_size=32, train_data=Batcher(vocab, \"finished_files/train.bin\",32, 200, 50),\n",
    "    val_data=Batcher(vocab, \"finished_files/chunked/val_001.bin\",32, 200, 50), val_batch_size=32, cov_loss=False)\n",
    "model.save_model(\"no_emb4\")\n",
    "fit(model, criterion, optimizer, epochs_count=5, batch_size=32, train_data=Batcher(vocab, \"finished_files/train.bin\",32, 200, 50),\n",
    "    val_data=None, val_batch_size=32, cov_loss=True)\n",
    "model.save_model(\"no_emb4\")\n",
    "fit(model, criterion, optimizer, epochs_count=5, batch_size=32, train_data=Batcher(vocab, \"finished_files/train.bin\",16, 400, 100),\n",
    "    val_data=None, val_batch_size=32, cov_loss=False)\n",
    "model.save_model(\"no_emb4\")"
   ]
  },
  {
   "cell_type": "code",
   "execution_count": null,
   "metadata": {},
   "outputs": [],
   "source": [
    "fit(model, criterion, optimizer, epochs_count=5, batch_size=32, train_data=Batcher(vocab, \"finished_files/train.bin\",16, 400, 100),\n",
    "    val_data=None, val_batch_size=32, cov_loss=True)\n",
    "model.save_model(\"no_emb\")"
   ]
  },
  {
   "cell_type": "markdown",
   "metadata": {},
   "source": [
    "fit(model, criterion, optimizer, epochs_count=10, batch_size=32, train_data=all_data,\n",
    "    val_data=None, val_batch_size=32, cov_loss=True)"
   ]
  },
  {
   "cell_type": "code",
   "execution_count": null,
   "metadata": {},
   "outputs": [],
   "source": [
    "#model.save_model(\"cov_loss3\")"
   ]
  },
  {
   "cell_type": "markdown",
   "metadata": {},
   "source": [
    "fit(model, criterion, optimizer, epochs_count=20, batch_size=32, train_data=all_data,\n",
    "    val_data=None, val_batch_size=32, cov_loss=True)"
   ]
  },
  {
   "cell_type": "code",
   "execution_count": null,
   "metadata": {},
   "outputs": [],
   "source": [
    "#model.save_model(\"cov_loss3\")"
   ]
  },
  {
   "cell_type": "markdown",
   "metadata": {},
   "source": [
    "max_len = 400\n",
    "max_tg_len = 100\n",
    "art_len = 60\n",
    "tg_len = 30\n",
    "\n",
    "\n",
    "for i in range(18):\n",
    "    batch_size = int(64 / (i + 1))\n",
    "    art_len += 20\n",
    "    tg_len += 10\n",
    "    if tg_len > max_tg_len:\n",
    "        tg_len = max_tg_len\n",
    "    if art_len > max_len:\n",
    "        art_len = max_len\n",
    "    fit(model, criterion, optimizer, epochs_count=5, batch_size=32, train_data=Batcher(vocab, \"finished_files/train.bin\",batch_size, art_len, tg_len),\n",
    "    val_data=None, val_batch_size=32)"
   ]
  },
  {
   "cell_type": "markdown",
   "metadata": {},
   "source": [
    "fit(model, criterion, optimizer, epochs_count=20, batch_size=32, train_data=all_data,\n",
    "    val_data=None, val_batch_size=32, cov_loss=True)"
   ]
  },
  {
   "cell_type": "code",
   "execution_count": null,
   "metadata": {},
   "outputs": [],
   "source": []
  }
 ],
 "metadata": {
  "kernelspec": {
   "display_name": "Python 3",
   "language": "python",
   "name": "python3"
  },
  "language_info": {
   "codemirror_mode": {
    "name": "ipython",
    "version": 3
   },
   "file_extension": ".py",
   "mimetype": "text/x-python",
   "name": "python",
   "nbconvert_exporter": "python",
   "pygments_lexer": "ipython3",
   "version": "3.6.5"
  }
 },
 "nbformat": 4,
 "nbformat_minor": 2
}
