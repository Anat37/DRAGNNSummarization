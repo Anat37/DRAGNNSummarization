{
 "cells": [
  {
   "cell_type": "code",
   "execution_count": 1,
   "metadata": {},
   "outputs": [],
   "source": [
    "import numpy as np\n",
    "\n",
    "import torch\n",
    "import torch.nn as nn\n",
    "import torch.nn.functional as F\n",
    "import torch.optim as optim\n",
    "\n",
    "from torch.cuda import FloatTensor, LongTensor\n",
    "\n",
    "np.random.seed(42)"
   ]
  },
  {
   "cell_type": "code",
   "execution_count": 2,
   "metadata": {},
   "outputs": [
    {
     "name": "stderr",
     "output_type": "stream",
     "text": [
      "c:\\python36\\lib\\site-packages\\h5py\\__init__.py:36: FutureWarning: Conversion of the second argument of issubdtype from `float` to `np.floating` is deprecated. In future, it will be treated as `np.float64 == np.dtype(float).type`.\n",
      "  from ._conv import register_converters as _register_converters\n"
     ]
    }
   ],
   "source": [
    "from utils import *\n",
    "from model import build_decoder_model\n",
    "\n",
    "%load_ext autoreload\n",
    "%autoreload 2"
   ]
  },
  {
   "cell_type": "code",
   "execution_count": 3,
   "metadata": {},
   "outputs": [
    {
     "name": "stdout",
     "output_type": "stream",
     "text": [
      "Warning: incorrectly formatted line in vocabulary file: 0800В 555В 111 356\n",
      "\n",
      "\n",
      "Warning: incorrectly formatted line in vocabulary file: 1800В 333В 000 139\n",
      "\n",
      "\n",
      "Warning: incorrectly formatted line in vocabulary file: 2В 1/2 124\n",
      "\n",
      "\n",
      "Warning: incorrectly formatted line in vocabulary file: 3В 1/2 86\n",
      "\n",
      "\n",
      "max_size of vocab was specified as 50000; we now have 50000 words. Stopping reading.\n",
      "Finished constructing vocabulary of 50000 total words. Last word added: perisic\n"
     ]
    }
   ],
   "source": [
    "vocab = Vocab(\"finished_files/vocab\", VOCAB_SIZE)"
   ]
  },
  {
   "cell_type": "code",
   "execution_count": 4,
   "metadata": {},
   "outputs": [
    {
     "data": {
      "text/plain": [
       "135609856"
      ]
     },
     "execution_count": 4,
     "metadata": {},
     "output_type": "execute_result"
    }
   ],
   "source": [
    "mask_layer = InputLayerState(\"attention_mask_layer\", False, [])\n",
    "model = build_decoder_model(mask_layer)\n",
    "torch.cuda.memory_allocated()"
   ]
  },
  {
   "cell_type": "markdown",
   "metadata": {},
   "source": [
    "train_data=Batcher(vocab, \"finished_files/chunked/train_000.bin\", 8, 1000, 50)"
   ]
  },
  {
   "cell_type": "markdown",
   "metadata": {},
   "source": [
    "gen_and_print_summary(train_data, model, 10)"
   ]
  },
  {
   "cell_type": "code",
   "execution_count": 5,
   "metadata": {},
   "outputs": [],
   "source": [
    "criterion = nn.CrossEntropyLoss(ignore_index = vocab.word2id(PAD_TOKEN)).cuda()\n",
    "optimizer = optim.Adagrad(model.parameters(), lr=0.15, initial_accumulator_value=0.1)"
   ]
  },
  {
   "cell_type": "code",
   "execution_count": 6,
   "metadata": {},
   "outputs": [
    {
     "name": "stdout",
     "output_type": "stream",
     "text": [
      "63\n",
      "99\n"
     ]
    }
   ],
   "source": [
    "val_data = Batcher(vocab, \"finished_files/chunked/val_001.bin\",16, 400, 100)"
   ]
  },
  {
   "cell_type": "code",
   "execution_count": 7,
   "metadata": {},
   "outputs": [],
   "source": [
    "model.load_model(\"loss2\")"
   ]
  },
  {
   "cell_type": "code",
   "execution_count": 8,
   "metadata": {},
   "outputs": [
    {
     "name": "stdout",
     "output_type": "stream",
     "text": [
      "17952\n",
      "377\n"
     ]
    }
   ],
   "source": [
    "all_data = Batcher(vocab, \"finished_files/train.bin\",16, 400, 100)"
   ]
  },
  {
   "cell_type": "code",
   "execution_count": 9,
   "metadata": {},
   "outputs": [],
   "source": [
    "#dta = Batcher(vocab, \"finished_files/train.bin\",64, 100, 10)"
   ]
  },
  {
   "cell_type": "code",
   "execution_count": null,
   "metadata": {},
   "outputs": [],
   "source": []
  },
  {
   "cell_type": "markdown",
   "metadata": {},
   "source": [
    "fit(model, criterion, optimizer, epochs_count=5, batch_size=32, train_data=dta,\n",
    "    val_data=val_data, val_batch_size=32, cov_loss=False, mask_layer=mask_layer)\n",
    "model.save_model(\"no_emb4\")\n",
    "fit(model, criterion, optimizer, epochs_count=5, batch_size=32, train_data=Batcher(vocab, \"finished_files/train.bin\",64, 100, 20),\n",
    "    val_data=val_data, val_batch_size=32, cov_loss=False, mask_layer=mask_layer)\n",
    "model.save_model(\"no_emb4\")\n",
    "fit(model, criterion, optimizer, epochs_count=5, batch_size=32, train_data=Batcher(vocab, \"finished_files/train.bin\",32, 200, 50),\n",
    "    val_data=val_data, val_batch_size=32, cov_loss=False, mask_layer=mask_layer)\n",
    "model.save_model(\"no_emb4\")\n",
    "fit(model, criterion, optimizer, epochs_count=5, batch_size=32, train_data=Batcher(vocab, \"finished_files/train.bin\",32, 200, 50),\n",
    "    val_data=val_data, val_batch_size=32, cov_loss=True, mask_layer=mask_layer)\n",
    "model.save_model(\"no_emb4\")\n",
    "fit(model, criterion, optimizer, epochs_count=5, batch_size=32, train_data=Batcher(vocab, \"finished_files/train.bin\",16, 400, 100),\n",
    "    val_data=val_data, val_batch_size=32, cov_loss=False, mask_layer=mask_layer)\n",
    "model.save_model(\"no_emb4\")"
   ]
  },
  {
   "cell_type": "markdown",
   "metadata": {},
   "source": [
    "fit(model, criterion, optimizer, epochs_count=5, batch_size=32, train_data=Batcher(vocab, \"finished_files/train.bin\",32, 200, 50),\n",
    "    val_data=val_data, val_batch_size=32, cov_loss=True, mask_layer=mask_layer)\n",
    "model.save_model(\"no_emb4\")\n",
    "fit(model, criterion, optimizer, epochs_count=5, batch_size=32, train_data=Batcher(vocab, \"finished_files/train.bin\",16, 400, 100),\n",
    "    val_data=val_data, val_batch_size=32, cov_loss=True, mask_layer=mask_layer)\n",
    "model.save_model(\"no_emb4\")"
   ]
  },
  {
   "cell_type": "code",
   "execution_count": 10,
   "metadata": {},
   "outputs": [
    {
     "name": "stdout",
     "output_type": "stream",
     "text": [
      "8976\n",
      "377\n",
      "63\n",
      "99\n"
     ]
    },
    {
     "name": "stderr",
     "output_type": "stream",
     "text": [
      "c:\\python36\\lib\\site-packages\\nltk\\translate\\bleu_score.py:503: UserWarning: \n",
      "The hypothesis contains 0 counts of 3-gram overlaps.\n",
      "Therefore the BLEU score evaluates to 0, independently of\n",
      "how many N-gram overlaps of lower order it contains.\n",
      "Consider using lower n-gram order or use SmoothingFunction()\n",
      "  warnings.warn(_msg)\n",
      "c:\\python36\\lib\\site-packages\\nltk\\translate\\bleu_score.py:503: UserWarning: \n",
      "The hypothesis contains 0 counts of 4-gram overlaps.\n",
      "Therefore the BLEU score evaluates to 0, independently of\n",
      "how many N-gram overlaps of lower order it contains.\n",
      "Consider using lower n-gram order or use SmoothingFunction()\n",
      "  warnings.warn(_msg)\n",
      "c:\\python36\\lib\\site-packages\\nltk\\translate\\bleu_score.py:503: UserWarning: \n",
      "The hypothesis contains 0 counts of 2-gram overlaps.\n",
      "Therefore the BLEU score evaluates to 0, independently of\n",
      "how many N-gram overlaps of lower order it contains.\n",
      "Consider using lower n-gram order or use SmoothingFunction()\n",
      "  warnings.warn(_msg)\n"
     ]
    },
    {
     "name": "stdout",
     "output_type": "stream",
     "text": [
      "Epoch 1 / 5, Epoch Time = 4157.71s: Train Loss = 1358862.7627: Cov_Loss = 0.0000, BLEU = 0.1606, ROUGE = 0.1364, Val Loss = 27546.1287\n",
      "Epoch 2 / 5, Epoch Time = 4139.27s: Train Loss = 1343736.7932: Cov_Loss = 0.0000, BLEU = 0.1659, ROUGE = 0.1409, Val Loss = 27926.1054\n",
      "Epoch 3 / 5, Epoch Time = 4142.10s: Train Loss = 1333053.6692: Cov_Loss = 0.0000, BLEU = 0.1630, ROUGE = 0.1384, Val Loss = 28225.8929\n",
      "Epoch 4 / 5, Epoch Time = 4142.65s: Train Loss = 1323852.6162: Cov_Loss = 0.0000, BLEU = 0.1632, ROUGE = 0.1387, Val Loss = 27871.8514\n",
      "Epoch 5 / 5, Epoch Time = 4148.85s: Train Loss = 1315626.6318: Cov_Loss = 0.0000, BLEU = 0.1596, ROUGE = 0.1355, Val Loss = 27581.4488\n",
      "\n"
     ]
    }
   ],
   "source": [
    "fit(model, criterion, optimizer, epochs_count=5, batch_size=32, train_data=Batcher(vocab, \"finished_files/train.bin\",32, 200, 50),\n",
    "    val_data=Batcher(vocab, \"finished_files/chunked/val_001.bin\",16, 400, 100), val_batch_size=32, cov_loss=True, mask_layer=mask_layer)\n",
    "model.save_model(\"loss3\")"
   ]
  },
  {
   "cell_type": "code",
   "execution_count": 11,
   "metadata": {},
   "outputs": [
    {
     "name": "stderr",
     "output_type": "stream",
     "text": [
      "c:\\python36\\lib\\site-packages\\nltk\\translate\\bleu_score.py:503: UserWarning: \n",
      "The hypothesis contains 0 counts of 3-gram overlaps.\n",
      "Therefore the BLEU score evaluates to 0, independently of\n",
      "how many N-gram overlaps of lower order it contains.\n",
      "Consider using lower n-gram order or use SmoothingFunction()\n",
      "  warnings.warn(_msg)\n",
      "c:\\python36\\lib\\site-packages\\nltk\\translate\\bleu_score.py:503: UserWarning: \n",
      "The hypothesis contains 0 counts of 4-gram overlaps.\n",
      "Therefore the BLEU score evaluates to 0, independently of\n",
      "how many N-gram overlaps of lower order it contains.\n",
      "Consider using lower n-gram order or use SmoothingFunction()\n",
      "  warnings.warn(_msg)\n"
     ]
    },
    {
     "name": "stdout",
     "output_type": "stream",
     "text": [
      "[4]: Loss = 150.5564, Cov_Loss = 0.2557, BLEU = 0.4468, ROUGE = 0.4468"
     ]
    },
    {
     "name": "stderr",
     "output_type": "stream",
     "text": [
      "c:\\python36\\lib\\site-packages\\nltk\\translate\\bleu_score.py:503: UserWarning: \n",
      "The hypothesis contains 0 counts of 2-gram overlaps.\n",
      "Therefore the BLEU score evaluates to 0, independently of\n",
      "how many N-gram overlaps of lower order it contains.\n",
      "Consider using lower n-gram order or use SmoothingFunction()\n",
      "  warnings.warn(_msg)\n"
     ]
    },
    {
     "name": "stdout",
     "output_type": "stream",
     "text": [
      "Epoch 1 / 5, Epoch Time = 12813.79s: Train Loss = 2959554.3809: Cov_Loss = 0.0000, BLEU = 0.1714, ROUGE = 0.1453, Val Loss = 29224.7432\n",
      "Epoch 2 / 5, Epoch Time = 12888.14s: Train Loss = 2932694.1535: Cov_Loss = 0.0000, BLEU = 0.1723, ROUGE = 0.1456, Val Loss = 29789.8739\n",
      "Epoch 3 / 5, Epoch Time = 12871.27s: Train Loss = 2910148.4464: Cov_Loss = 0.0000, BLEU = 0.1726, ROUGE = 0.1465, Val Loss = 30154.6780\n",
      "Epoch 4 / 5, Epoch Time = 12899.12s: Train Loss = 2890333.8374: Cov_Loss = 0.0000, BLEU = 0.1718, ROUGE = 0.1456, Val Loss = 29616.0386\n",
      "Epoch 5 / 5, Epoch Time = 12893.88s: Train Loss = 2872645.0449: Cov_Loss = 0.0000, BLEU = 0.1724, ROUGE = 0.1465, Val Loss = 29401.0292\n",
      "\n",
      "Epoch 1 / 5, Epoch Time = 12894.42s: Train Loss = 2855871.0905: Cov_Loss = 0.0000, BLEU = 0.1690, ROUGE = 0.1434, Val Loss = 29153.3724\n",
      "Epoch 2 / 5, Epoch Time = 12949.06s: Train Loss = 2840560.1129: Cov_Loss = 0.0000, BLEU = 0.1708, ROUGE = 0.1449, Val Loss = 29704.4110\n",
      "Epoch 3 / 5, Epoch Time = 13017.71s: Train Loss = 2826275.8876: Cov_Loss = 0.0000, BLEU = 0.1709, ROUGE = 0.1447, Val Loss = 30268.3435\n",
      "Epoch 4 / 5, Epoch Time = 12911.69s: Train Loss = 2812730.6720: Cov_Loss = 0.0000, BLEU = 0.1719, ROUGE = 0.1456, Val Loss = 29876.4100\n",
      "Epoch 5 / 5, Epoch Time = 12920.10s: Train Loss = 2799746.1164: Cov_Loss = 0.0000, BLEU = 0.1716, ROUGE = 0.1450, Val Loss = 30327.1208\n",
      "\n"
     ]
    }
   ],
   "source": [
    "fit(model, criterion, optimizer, epochs_count=5, batch_size=32, train_data=all_data,\n",
    "    val_data=val_data, val_batch_size=32, cov_loss=True, mask_layer=mask_layer)\n",
    "model.save_model(\"loss3\")\n",
    "fit(model, criterion, optimizer, epochs_count=5, batch_size=32, train_data=all_data,\n",
    "    val_data=val_data, val_batch_size=32, cov_loss=True, mask_layer=mask_layer)\n",
    "model.save_model(\"loss3\")"
   ]
  },
  {
   "cell_type": "markdown",
   "metadata": {},
   "source": [
    "fit(model, criterion, optimizer, epochs_count=5, batch_size=32, train_data=Batcher(vocab, \"finished_files/train.bin\",16, 400, 100),\n",
    "    val_data=None, val_batch_size=32, cov_loss=True, mask_layer=mask_layer)\n",
    "model.save_model(\"no_emb4\")"
   ]
  },
  {
   "cell_type": "markdown",
   "metadata": {},
   "source": [
    "fit(model, criterion, optimizer, epochs_count=10, batch_size=32, train_data=all_data,\n",
    "    val_data=None, val_batch_size=32, cov_loss=True)"
   ]
  },
  {
   "cell_type": "code",
   "execution_count": 12,
   "metadata": {},
   "outputs": [],
   "source": [
    "#model.save_model(\"cov_loss3\")"
   ]
  },
  {
   "cell_type": "markdown",
   "metadata": {},
   "source": [
    "fit(model, criterion, optimizer, epochs_count=20, batch_size=32, train_data=all_data,\n",
    "    val_data=None, val_batch_size=32, cov_loss=True)"
   ]
  },
  {
   "cell_type": "code",
   "execution_count": 13,
   "metadata": {},
   "outputs": [],
   "source": [
    "#model.save_model(\"cov_loss3\")"
   ]
  },
  {
   "cell_type": "markdown",
   "metadata": {},
   "source": [
    "max_len = 400\n",
    "max_tg_len = 100\n",
    "art_len = 60\n",
    "tg_len = 30\n",
    "\n",
    "\n",
    "for i in range(18):\n",
    "    batch_size = int(64 / (i + 1))\n",
    "    art_len += 20\n",
    "    tg_len += 10\n",
    "    if tg_len > max_tg_len:\n",
    "        tg_len = max_tg_len\n",
    "    if art_len > max_len:\n",
    "        art_len = max_len\n",
    "    fit(model, criterion, optimizer, epochs_count=5, batch_size=32, train_data=Batcher(vocab, \"finished_files/train.bin\",batch_size, art_len, tg_len),\n",
    "    val_data=None, val_batch_size=32)"
   ]
  },
  {
   "cell_type": "markdown",
   "metadata": {},
   "source": [
    "fit(model, criterion, optimizer, epochs_count=20, batch_size=32, train_data=all_data,\n",
    "    val_data=None, val_batch_size=32, cov_loss=True)"
   ]
  },
  {
   "cell_type": "code",
   "execution_count": null,
   "metadata": {},
   "outputs": [],
   "source": []
  }
 ],
 "metadata": {
  "kernelspec": {
   "display_name": "Python 3",
   "language": "python",
   "name": "python3"
  },
  "language_info": {
   "codemirror_mode": {
    "name": "ipython",
    "version": 3
   },
   "file_extension": ".py",
   "mimetype": "text/x-python",
   "name": "python",
   "nbconvert_exporter": "python",
   "pygments_lexer": "ipython3",
   "version": "3.6.5"
  }
 },
 "nbformat": 4,
 "nbformat_minor": 2
}
