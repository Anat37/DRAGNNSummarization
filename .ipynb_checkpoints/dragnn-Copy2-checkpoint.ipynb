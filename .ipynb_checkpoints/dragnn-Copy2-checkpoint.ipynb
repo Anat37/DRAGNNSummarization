{
 "cells": [
  {
   "cell_type": "code",
   "execution_count": 1,
   "metadata": {},
   "outputs": [],
   "source": [
    "import numpy as np\n",
    "\n",
    "import torch\n",
    "import torch.nn as nn\n",
    "import torch.nn.functional as F\n",
    "import torch.optim as optim\n",
    "\n",
    "from torch.cuda import FloatTensor, LongTensor\n",
    "\n",
    "np.random.seed(42)"
   ]
  },
  {
   "cell_type": "code",
   "execution_count": 2,
   "metadata": {},
   "outputs": [
    {
     "name": "stderr",
     "output_type": "stream",
     "text": [
      "c:\\python36\\lib\\site-packages\\h5py\\__init__.py:36: FutureWarning: Conversion of the second argument of issubdtype from `float` to `np.floating` is deprecated. In future, it will be treated as `np.float64 == np.dtype(float).type`.\n",
      "  from ._conv import register_converters as _register_converters\n"
     ]
    }
   ],
   "source": [
    "from utils import *\n",
    "#from model import build_decoder_model\n",
    "\n",
    "%load_ext autoreload\n",
    "%autoreload 2"
   ]
  },
  {
   "cell_type": "code",
   "execution_count": 3,
   "metadata": {},
   "outputs": [
    {
     "name": "stdout",
     "output_type": "stream",
     "text": [
      "Warning: incorrectly formatted line in vocabulary file: 0800В 555В 111 356\n",
      "\n",
      "\n",
      "Warning: incorrectly formatted line in vocabulary file: 1800В 333В 000 139\n",
      "\n",
      "\n",
      "Warning: incorrectly formatted line in vocabulary file: 2В 1/2 124\n",
      "\n",
      "\n",
      "Warning: incorrectly formatted line in vocabulary file: 3В 1/2 86\n",
      "\n",
      "\n",
      "max_size of vocab was specified as 50000; we now have 50000 words. Stopping reading.\n",
      "Finished constructing vocabulary of 50000 total words. Last word added: perisic\n"
     ]
    }
   ],
   "source": [
    "vocab = Vocab(\"finished_files/vocab\", VOCAB_SIZE)"
   ]
  },
  {
   "cell_type": "code",
   "execution_count": 4,
   "metadata": {},
   "outputs": [
    {
     "data": {
      "text/plain": [
       "135609856"
      ]
     },
     "execution_count": 4,
     "metadata": {},
     "output_type": "execute_result"
    }
   ],
   "source": [
    "model = build_decoder_model()\n",
    "torch.cuda.memory_allocated()"
   ]
  },
  {
   "cell_type": "markdown",
   "metadata": {},
   "source": [
    "train_data=Batcher(vocab, \"finished_files/chunked/train_000.bin\", 8, 1000, 50)"
   ]
  },
  {
   "cell_type": "markdown",
   "metadata": {},
   "source": [
    "gen_and_print_summary(train_data, model, 10)"
   ]
  },
  {
   "cell_type": "code",
   "execution_count": 5,
   "metadata": {},
   "outputs": [],
   "source": [
    "criterion = nn.CrossEntropyLoss(ignore_index = vocab.word2id(PAD_TOKEN)).cuda()\n",
    "optimizer = optim.Adagrad(model.parameters(), lr=0.15, initial_accumulator_value=0.1)"
   ]
  },
  {
   "cell_type": "code",
   "execution_count": null,
   "metadata": {},
   "outputs": [],
   "source": []
  },
  {
   "cell_type": "code",
   "execution_count": 6,
   "metadata": {},
   "outputs": [],
   "source": [
    "#model.load_model(\"cov_loss3\")"
   ]
  },
  {
   "cell_type": "code",
   "execution_count": 7,
   "metadata": {},
   "outputs": [],
   "source": [
    "#all_data = Batcher(vocab, \"finished_files/train.bin\",32, 200, 50)"
   ]
  },
  {
   "cell_type": "code",
   "execution_count": 8,
   "metadata": {},
   "outputs": [],
   "source": [
    "#dta = Batcher(vocab, \"finished_files/chunked/train_001.bin\",32, 200, 100)"
   ]
  },
  {
   "cell_type": "code",
   "execution_count": 9,
   "metadata": {},
   "outputs": [
    {
     "name": "stdout",
     "output_type": "stream",
     "text": [
      "4488\n",
      "377\n"
     ]
    },
    {
     "name": "stderr",
     "output_type": "stream",
     "text": [
      "c:\\python36\\lib\\site-packages\\nltk\\translate\\bleu_score.py:503: UserWarning: \n",
      "The hypothesis contains 0 counts of 2-gram overlaps.\n",
      "Therefore the BLEU score evaluates to 0, independently of\n",
      "how many N-gram overlaps of lower order it contains.\n",
      "Consider using lower n-gram order or use SmoothingFunction()\n",
      "  warnings.warn(_msg)\n",
      "c:\\python36\\lib\\site-packages\\nltk\\translate\\bleu_score.py:503: UserWarning: \n",
      "The hypothesis contains 0 counts of 3-gram overlaps.\n",
      "Therefore the BLEU score evaluates to 0, independently of\n",
      "how many N-gram overlaps of lower order it contains.\n",
      "Consider using lower n-gram order or use SmoothingFunction()\n",
      "  warnings.warn(_msg)\n",
      "c:\\python36\\lib\\site-packages\\nltk\\translate\\bleu_score.py:503: UserWarning: \n",
      "The hypothesis contains 0 counts of 4-gram overlaps.\n",
      "Therefore the BLEU score evaluates to 0, independently of\n",
      "how many N-gram overlaps of lower order it contains.\n",
      "Consider using lower n-gram order or use SmoothingFunction()\n",
      "  warnings.warn(_msg)\n"
     ]
    },
    {
     "name": "stdout",
     "output_type": "stream",
     "text": [
      "Epoch 1 / 2, Epoch Time = 609.44s: Train Loss = 197586.2619: Cov_Loss = 0.0000, BLEU = 0.1825, ROUGE = 0.1825\n",
      "Epoch 2 / 2, Epoch Time = 611.17s: Train Loss = 171138.8380: Cov_Loss = 0.0000, BLEU = 0.2562, ROUGE = 0.2562\n",
      "\n",
      "4488\n",
      "377\n",
      "Epoch 1 / 2, Epoch Time = 1041.79s: Train Loss = 363796.6244: Cov_Loss = 0.0000, BLEU = 0.2530, ROUGE = 0.2532\n",
      "Epoch 2 / 2, Epoch Time = 1041.06s: Train Loss = 349065.8202: Cov_Loss = 0.0000, BLEU = 0.2652, ROUGE = 0.2652\n",
      "\n",
      "8976\n",
      "377\n",
      "Epoch 1 / 5, Epoch Time = 3872.48s: Train Loss = 1587626.5990: Cov_Loss = 0.0000, BLEU = 0.2922, ROUGE = 0.2929\n",
      "Epoch 2 / 5, Epoch Time = 3849.63s: Train Loss = 1536621.1641: Cov_Loss = 0.0000, BLEU = 0.3018, ROUGE = 0.3022\n",
      "Epoch 3 / 5, Epoch Time = 3844.24s: Train Loss = 1505625.5562: Cov_Loss = 0.0000, BLEU = 0.3064, ROUGE = 0.3068\n",
      "Epoch 4 / 5, Epoch Time = 3847.43s: Train Loss = 1482198.0046: Cov_Loss = 0.0000, BLEU = 0.3099, ROUGE = 0.3103\n",
      "Epoch 5 / 5, Epoch Time = 3858.82s: Train Loss = 1463383.5874: Cov_Loss = 0.0000, BLEU = 0.3125, ROUGE = 0.3129\n",
      "\n",
      "8976\n",
      "377\n",
      "Epoch 1 / 5, Epoch Time = 4030.25s: Train Loss = 1447563.8921: Cov_Loss = 1402.1249, BLEU = 0.3147, ROUGE = 0.3152\n",
      "Epoch 2 / 5, Epoch Time = 4030.94s: Train Loss = 1433746.0314: Cov_Loss = 1396.5813, BLEU = 0.3167, ROUGE = 0.3171\n",
      "Epoch 3 / 5, Epoch Time = 4029.10s: Train Loss = 1421628.6473: Cov_Loss = 1391.2484, BLEU = 0.3183, ROUGE = 0.3188\n",
      "Epoch 4 / 5, Epoch Time = 4034.48s: Train Loss = 1410687.9114: Cov_Loss = 1386.4240, BLEU = 0.3201, ROUGE = 0.3205\n",
      "Epoch 5 / 5, Epoch Time = 4040.59s: Train Loss = 1400703.2196: Cov_Loss = 1382.3194, BLEU = 0.3213, ROUGE = 0.3217\n",
      "\n",
      "17952\n",
      "377\n",
      "Epoch 1 / 5, Epoch Time = 11890.17s: Train Loss = 3418911.7473: Cov_Loss = 0.0000, BLEU = 0.3399, ROUGE = 0.3425\n",
      "Epoch 2 / 5, Epoch Time = 11887.20s: Train Loss = 3381992.7790: Cov_Loss = 0.0000, BLEU = 0.3430, ROUGE = 0.3456\n",
      "Epoch 3 / 5, Epoch Time = 11932.29s: Train Loss = 3352982.5021: Cov_Loss = 0.0000, BLEU = 0.3455, ROUGE = 0.3480\n",
      "Epoch 4 / 5, Epoch Time = 11935.71s: Train Loss = 3327902.4918: Cov_Loss = 0.0000, BLEU = 0.3475, ROUGE = 0.3499\n",
      "Epoch 5 / 5, Epoch Time = 11889.81s: Train Loss = 3305439.1035: Cov_Loss = 0.0000, BLEU = 0.3490, ROUGE = 0.3515\n",
      "\n"
     ]
    }
   ],
   "source": [
    "fit(model, criterion, optimizer, epochs_count=2, batch_size=32, train_data=Batcher(vocab, \"finished_files/train.bin\",64, 100, 10),\n",
    "    val_data=None, val_batch_size=32, cov_loss=False)\n",
    "model.save_model(\"loss2\")\n",
    "fit(model, criterion, optimizer, epochs_count=2, batch_size=32, train_data=Batcher(vocab, \"finished_files/train.bin\",64, 100, 20),\n",
    "    val_data=None, val_batch_size=32, cov_loss=False)\n",
    "model.save_model(\"loss2\")\n",
    "fit(model, criterion, optimizer, epochs_count=5, batch_size=32, train_data=Batcher(vocab, \"finished_files/train.bin\",32, 200, 50),\n",
    "    val_data=None, val_batch_size=32, cov_loss=False)\n",
    "model.save_model(\"loss2\")\n",
    "fit(model, criterion, optimizer, epochs_count=5, batch_size=32, train_data=Batcher(vocab, \"finished_files/train.bin\",32, 200, 50),\n",
    "    val_data=None, val_batch_size=32, cov_loss=True)\n",
    "model.save_model(\"loss2\")\n",
    "fit(model, criterion, optimizer, epochs_count=5, batch_size=32, train_data=Batcher(vocab, \"finished_files/train.bin\",16, 400, 100),\n",
    "    val_data=None, val_batch_size=32, cov_loss=False)\n",
    "model.save_model(\"loss2\")"
   ]
  },
  {
   "cell_type": "code",
   "execution_count": 12,
   "metadata": {},
   "outputs": [
    {
     "name": "stdout",
     "output_type": "stream",
     "text": [
      "17952\n",
      "377\n",
      "[0]: Loss = 177.1675, Cov_Loss = 0.7176, BLEU = 0.3497, ROUGE = 0.3514"
     ]
    },
    {
     "name": "stderr",
     "output_type": "stream",
     "text": [
      "c:\\python36\\lib\\site-packages\\nltk\\translate\\bleu_score.py:503: UserWarning: \n",
      "The hypothesis contains 0 counts of 3-gram overlaps.\n",
      "Therefore the BLEU score evaluates to 0, independently of\n",
      "how many N-gram overlaps of lower order it contains.\n",
      "Consider using lower n-gram order or use SmoothingFunction()\n",
      "  warnings.warn(_msg)\n",
      "c:\\python36\\lib\\site-packages\\nltk\\translate\\bleu_score.py:503: UserWarning: \n",
      "The hypothesis contains 0 counts of 4-gram overlaps.\n",
      "Therefore the BLEU score evaluates to 0, independently of\n",
      "how many N-gram overlaps of lower order it contains.\n",
      "Consider using lower n-gram order or use SmoothingFunction()\n",
      "  warnings.warn(_msg)\n"
     ]
    },
    {
     "name": "stdout",
     "output_type": "stream",
     "text": [
      "[5]: Loss = 194.4483, Cov_Loss = 0.6834, BLEU = 0.3167, ROUGE = 0.3183"
     ]
    },
    {
     "name": "stderr",
     "output_type": "stream",
     "text": [
      "c:\\python36\\lib\\site-packages\\nltk\\translate\\bleu_score.py:503: UserWarning: \n",
      "The hypothesis contains 0 counts of 2-gram overlaps.\n",
      "Therefore the BLEU score evaluates to 0, independently of\n",
      "how many N-gram overlaps of lower order it contains.\n",
      "Consider using lower n-gram order or use SmoothingFunction()\n",
      "  warnings.warn(_msg)\n"
     ]
    },
    {
     "name": "stdout",
     "output_type": "stream",
     "text": [
      "Epoch 1 / 5, Epoch Time = 12521.85s: Train Loss = 3285087.5947: Cov_Loss = 12371.0177, BLEU = 0.3506, ROUGE = 0.3530\n",
      "Epoch 2 / 5, Epoch Time = 12520.84s: Train Loss = 3266359.6590: Cov_Loss = 12347.4629, BLEU = 0.3519, ROUGE = 0.3544\n",
      "Epoch 3 / 5, Epoch Time = 12611.67s: Train Loss = 3249385.1384: Cov_Loss = 12326.2226, BLEU = 0.3530, ROUGE = 0.3554\n",
      "Epoch 4 / 5, Epoch Time = 12622.93s: Train Loss = 3233252.2001: Cov_Loss = 12304.3834, BLEU = 0.3541, ROUGE = 0.3566\n",
      "Epoch 5 / 5, Epoch Time = 12617.87s: Train Loss = 3218176.7367: Cov_Loss = 12284.4438, BLEU = 0.3552, ROUGE = 0.3576\n",
      "\n"
     ]
    }
   ],
   "source": [
    "fit(model, criterion, optimizer, epochs_count=5, batch_size=32, train_data=Batcher(vocab, \"finished_files/train.bin\",16, 400, 100),\n",
    "    val_data=None, val_batch_size=32, cov_loss=True)\n",
    "model.save_model(\"loss22\")"
   ]
  },
  {
   "cell_type": "markdown",
   "metadata": {},
   "source": [
    "fit(model, criterion, optimizer, epochs_count=10, batch_size=32, train_data=all_data,\n",
    "    val_data=None, val_batch_size=32, cov_loss=True)"
   ]
  },
  {
   "cell_type": "code",
   "execution_count": 10,
   "metadata": {},
   "outputs": [],
   "source": [
    "#model.save_model(\"cov_loss3\")"
   ]
  },
  {
   "cell_type": "markdown",
   "metadata": {},
   "source": [
    "fit(model, criterion, optimizer, epochs_count=20, batch_size=32, train_data=all_data,\n",
    "    val_data=None, val_batch_size=32, cov_loss=True)"
   ]
  },
  {
   "cell_type": "code",
   "execution_count": 11,
   "metadata": {},
   "outputs": [],
   "source": [
    "#model.save_model(\"cov_loss3\")"
   ]
  },
  {
   "cell_type": "markdown",
   "metadata": {},
   "source": [
    "max_len = 400\n",
    "max_tg_len = 100\n",
    "art_len = 60\n",
    "tg_len = 30\n",
    "\n",
    "\n",
    "for i in range(18):\n",
    "    batch_size = int(64 / (i + 1))\n",
    "    art_len += 20\n",
    "    tg_len += 10\n",
    "    if tg_len > max_tg_len:\n",
    "        tg_len = max_tg_len\n",
    "    if art_len > max_len:\n",
    "        art_len = max_len\n",
    "    fit(model, criterion, optimizer, epochs_count=5, batch_size=32, train_data=Batcher(vocab, \"finished_files/train.bin\",batch_size, art_len, tg_len),\n",
    "    val_data=None, val_batch_size=32)"
   ]
  },
  {
   "cell_type": "markdown",
   "metadata": {},
   "source": [
    "fit(model, criterion, optimizer, epochs_count=20, batch_size=32, train_data=all_data,\n",
    "    val_data=None, val_batch_size=32, cov_loss=True)"
   ]
  },
  {
   "cell_type": "code",
   "execution_count": null,
   "metadata": {},
   "outputs": [],
   "source": []
  }
 ],
 "metadata": {
  "kernelspec": {
   "display_name": "Python 3",
   "language": "python",
   "name": "python3"
  },
  "language_info": {
   "codemirror_mode": {
    "name": "ipython",
    "version": 3
   },
   "file_extension": ".py",
   "mimetype": "text/x-python",
   "name": "python",
   "nbconvert_exporter": "python",
   "pygments_lexer": "ipython3",
   "version": "3.6.5"
  }
 },
 "nbformat": 4,
 "nbformat_minor": 2
}
