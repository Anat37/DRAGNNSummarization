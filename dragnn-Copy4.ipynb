{
 "cells": [
  {
   "cell_type": "code",
   "execution_count": 1,
   "metadata": {},
   "outputs": [],
   "source": [
    "import numpy as np\n",
    "\n",
    "import torch\n",
    "import torch.nn as nn\n",
    "import torch.nn.functional as F\n",
    "import torch.optim as optim\n",
    "\n",
    "from torch.cuda import FloatTensor, LongTensor\n",
    "\n",
    "np.random.seed(42)"
   ]
  },
  {
   "cell_type": "code",
   "execution_count": 2,
   "metadata": {},
   "outputs": [
    {
     "data": {
      "text/plain": [
       "7401"
      ]
     },
     "execution_count": 2,
     "metadata": {},
     "output_type": "execute_result"
    }
   ],
   "source": [
    "torch.backends.cudnn.version()"
   ]
  },
  {
   "cell_type": "code",
   "execution_count": 3,
   "metadata": {},
   "outputs": [
    {
     "data": {
      "text/plain": [
       "True"
      ]
     },
     "execution_count": 3,
     "metadata": {},
     "output_type": "execute_result"
    }
   ],
   "source": [
    "torch.backends.cudnn.enabled"
   ]
  },
  {
   "cell_type": "code",
   "execution_count": 4,
   "metadata": {},
   "outputs": [
    {
     "name": "stderr",
     "output_type": "stream",
     "text": [
      "c:\\python36\\lib\\site-packages\\h5py\\__init__.py:36: FutureWarning: Conversion of the second argument of issubdtype from `float` to `np.floating` is deprecated. In future, it will be treated as `np.float64 == np.dtype(float).type`.\n",
      "  from ._conv import register_converters as _register_converters\n"
     ]
    }
   ],
   "source": [
    "from utils import *\n",
    "from model4 import build_decoder_model\n",
    "\n",
    "%load_ext autoreload\n",
    "%autoreload 2"
   ]
  },
  {
   "cell_type": "code",
   "execution_count": 5,
   "metadata": {},
   "outputs": [
    {
     "name": "stdout",
     "output_type": "stream",
     "text": [
      "Warning: incorrectly formatted line in vocabulary file: 0800В 555В 111 356\n",
      "\n",
      "\n",
      "Warning: incorrectly formatted line in vocabulary file: 1800В 333В 000 139\n",
      "\n",
      "\n",
      "Warning: incorrectly formatted line in vocabulary file: 2В 1/2 124\n",
      "\n",
      "\n",
      "Warning: incorrectly formatted line in vocabulary file: 3В 1/2 86\n",
      "\n",
      "\n",
      "max_size of vocab was specified as 50000; we now have 50000 words. Stopping reading.\n",
      "Finished constructing vocabulary of 50000 total words. Last word added: perisic\n"
     ]
    }
   ],
   "source": [
    "vocab = Vocab(\"finished_files/vocab\", VOCAB_SIZE)"
   ]
  },
  {
   "cell_type": "code",
   "execution_count": 6,
   "metadata": {},
   "outputs": [
    {
     "data": {
      "text/plain": [
       "135872000"
      ]
     },
     "execution_count": 6,
     "metadata": {},
     "output_type": "execute_result"
    }
   ],
   "source": [
    "mask_layer = \"attention_mask_layer\"\n",
    "model = build_decoder_model(mask_layer)\n",
    "torch.cuda.memory_allocated()"
   ]
  },
  {
   "cell_type": "markdown",
   "metadata": {},
   "source": [
    "train_data=Batcher(vocab, \"finished_files/chunked/train_000.bin\", 8, 1000, 50)"
   ]
  },
  {
   "cell_type": "markdown",
   "metadata": {},
   "source": [
    "gen_and_print_summary(train_data, model, 10)"
   ]
  },
  {
   "cell_type": "code",
   "execution_count": 7,
   "metadata": {},
   "outputs": [],
   "source": [
    "#model.load_model(\"full_retr7\")"
   ]
  },
  {
   "cell_type": "code",
   "execution_count": 8,
   "metadata": {},
   "outputs": [],
   "source": [
    "val_data = CachedBatcher(vocab, \"finished_files/chunked/val_001.bin\", 12, 400, 100)"
   ]
  },
  {
   "cell_type": "markdown",
   "metadata": {},
   "source": [
    "val_data = CachedBatcher(vocab, \"finished_files/chunked/val_001.bin\", 16, 200, 50)"
   ]
  },
  {
   "cell_type": "markdown",
   "metadata": {},
   "source": [
    "fit(model, optimizer, epochs_count=5, batch_size=32, train_data=CachedBatcher(vocab, \"finished_files/train.bin\",32, 200, 20),\n",
    "    val_data=val_data, val_batch_size=32, cov_loss=False, mask_layer=mask_layer)\n",
    "model.save_model(\"full_retr\")"
   ]
  },
  {
   "cell_type": "code",
   "execution_count": null,
   "metadata": {},
   "outputs": [
    {
     "name": "stdout",
     "output_type": "stream",
     "text": [
      "17952\n",
      "377\n"
     ]
    },
    {
     "name": "stderr",
     "output_type": "stream",
     "text": [
      "c:\\python36\\lib\\site-packages\\nltk\\translate\\bleu_score.py:503: UserWarning: \n",
      "The hypothesis contains 0 counts of 2-gram overlaps.\n",
      "Therefore the BLEU score evaluates to 0, independently of\n",
      "how many N-gram overlaps of lower order it contains.\n",
      "Consider using lower n-gram order or use SmoothingFunction()\n",
      "  warnings.warn(_msg)\n",
      "c:\\python36\\lib\\site-packages\\nltk\\translate\\bleu_score.py:503: UserWarning: \n",
      "The hypothesis contains 0 counts of 3-gram overlaps.\n",
      "Therefore the BLEU score evaluates to 0, independently of\n",
      "how many N-gram overlaps of lower order it contains.\n",
      "Consider using lower n-gram order or use SmoothingFunction()\n",
      "  warnings.warn(_msg)\n",
      "c:\\python36\\lib\\site-packages\\nltk\\translate\\bleu_score.py:503: UserWarning: \n",
      "The hypothesis contains 0 counts of 4-gram overlaps.\n",
      "Therefore the BLEU score evaluates to 0, independently of\n",
      "how many N-gram overlaps of lower order it contains.\n",
      "Consider using lower n-gram order or use SmoothingFunction()\n",
      "  warnings.warn(_msg)\n"
     ]
    },
    {
     "name": "stdout",
     "output_type": "stream",
     "text": [
      "[13160]: Loss = 202.0483, Cov_Loss = 0.0000, BLEU = 0.2023, ROUGE = 0.1556"
     ]
    }
   ],
   "source": [
    "optimizer = optim.Adagrad(model.parameters(), lr=0.15, initial_accumulator_value=0.1, lr_decay=1e-5, weight_decay=1e-6)\n",
    "fit(model, optimizer, epochs_count=1, batch_size=32, train_data=CachedBatcher(vocab, \"finished_files/train.bin\",16, 400, 100),\n",
    "    val_data=val_data, val_batch_size=32, cov_loss=False, mask_layer=mask_layer)\n",
    "model.save_model(\"full_retr7\")\n",
    "fit(model, optimizer, epochs_count=1, batch_size=32, train_data=CachedBatcher(vocab, \"finished_files/train.bin\",16, 400, 100),\n",
    "    val_data=val_data, val_batch_size=32, cov_loss=False, mask_layer=mask_layer)\n",
    "model.save_model(\"full_retr8\")\n",
    "fit(model, optimizer, epochs_count=1, batch_size=32, train_data=CachedBatcher(vocab, \"finished_files/train.bin\",16, 400, 100),\n",
    "    val_data=val_data, val_batch_size=32, cov_loss=False, mask_layer=mask_layer)\n",
    "model.save_model(\"full_retr9\")\n",
    "fit(model, optimizer, epochs_count=1, batch_size=32, train_data=CachedBatcher(vocab, \"finished_files/train.bin\",16, 400, 100),\n",
    "    val_data=val_data, val_batch_size=32, cov_loss=False, mask_layer=mask_layer)\n",
    "model.save_model(\"full_retr10\")"
   ]
  },
  {
   "cell_type": "markdown",
   "metadata": {},
   "source": [
    "optimizer = optim.Adam(model.parameters())\n",
    "fit(model, optimizer, epochs_count=5, batch_size=32, train_data=CachedBatcher(vocab, \"finished_files/train.bin\",16, 400, 100),\n",
    "    val_data=val_data, val_batch_size=32, cov_loss=False, mask_layer=mask_layer)\n",
    "model.save_model(\"full_retr\")"
   ]
  },
  {
   "cell_type": "markdown",
   "metadata": {},
   "source": [
    "loc_optimizer = optim.Adagrad(model.parameters(), lr=0.015, initial_accumulator_value=0.1)\n",
    "fit(model, loc_optimizer, epochs_count=3, batch_size=32, train_data=CachedBatcher(vocab, \"finished_files/train.bin\",16, 400, 100),\n",
    "    val_data=val_data, val_batch_size=32, cov_loss=False, mask_layer=mask_layer)\n",
    "model.save_model(\"full_retr\")"
   ]
  },
  {
   "cell_type": "markdown",
   "metadata": {},
   "source": [
    "fit(model, optimizer, epochs_count=5, batch_size=32, train_data=CachedBatcher(vocab, \"finished_files/train.bin\",16, 400, 100),\n",
    "    val_data=val_data, val_batch_size=32, cov_loss=True, mask_layer=mask_layer)\n",
    "model.save_model(\"full_retr_cov\")"
   ]
  },
  {
   "cell_type": "markdown",
   "metadata": {},
   "source": [
    "fit(model, criterion, optimizer, epochs_count=10, batch_size=32, train_data=all_data,\n",
    "    val_data=None, val_batch_size=32, cov_loss=True)"
   ]
  },
  {
   "cell_type": "code",
   "execution_count": null,
   "metadata": {},
   "outputs": [],
   "source": [
    "#model.save_model(\"cov_loss3\")"
   ]
  },
  {
   "cell_type": "markdown",
   "metadata": {},
   "source": [
    "fit(model, criterion, optimizer, epochs_count=20, batch_size=32, train_data=all_data,\n",
    "    val_data=None, val_batch_size=32, cov_loss=True)"
   ]
  },
  {
   "cell_type": "code",
   "execution_count": null,
   "metadata": {},
   "outputs": [],
   "source": [
    "#model.save_model(\"cov_loss3\")"
   ]
  },
  {
   "cell_type": "markdown",
   "metadata": {},
   "source": [
    "max_len = 400\n",
    "max_tg_len = 100\n",
    "art_len = 60\n",
    "tg_len = 30\n",
    "\n",
    "\n",
    "for i in range(18):\n",
    "    batch_size = int(64 / (i + 1))\n",
    "    art_len += 20\n",
    "    tg_len += 10\n",
    "    if tg_len > max_tg_len:\n",
    "        tg_len = max_tg_len\n",
    "    if art_len > max_len:\n",
    "        art_len = max_len\n",
    "    fit(model, criterion, optimizer, epochs_count=5, batch_size=32, train_data=Batcher(vocab, \"finished_files/train.bin\",batch_size, art_len, tg_len),\n",
    "    val_data=None, val_batch_size=32)"
   ]
  },
  {
   "cell_type": "markdown",
   "metadata": {},
   "source": [
    "fit(model, criterion, optimizer, epochs_count=20, batch_size=32, train_data=all_data,\n",
    "    val_data=None, val_batch_size=32, cov_loss=True)"
   ]
  },
  {
   "cell_type": "code",
   "execution_count": null,
   "metadata": {},
   "outputs": [],
   "source": [
    "del model\n",
    "model = build_decoder_model(mask_layer)\n",
    "optimizer = optim.Adagrad(model.parameters(), lr=0.15, initial_accumulator_value=0.1, lr_decay=1e-4, weight_decay=1e-6)\n",
    "fit(model, optimizer, epochs_count=1, batch_size=32, train_data=CachedBatcher(vocab, \"finished_files/train.bin\",16, 400, 100),\n",
    "    val_data=val_data, val_batch_size=32, cov_loss=False, mask_layer=mask_layer)\n",
    "model.save_model(\"full_retr8\")"
   ]
  },
  {
   "cell_type": "code",
   "execution_count": null,
   "metadata": {},
   "outputs": [],
   "source": []
  }
 ],
 "metadata": {
  "kernelspec": {
   "display_name": "Python 3",
   "language": "python",
   "name": "python3"
  },
  "language_info": {
   "codemirror_mode": {
    "name": "ipython",
    "version": 3
   },
   "file_extension": ".py",
   "mimetype": "text/x-python",
   "name": "python",
   "nbconvert_exporter": "python",
   "pygments_lexer": "ipython3",
   "version": "3.6.5"
  }
 },
 "nbformat": 4,
 "nbformat_minor": 2
}
